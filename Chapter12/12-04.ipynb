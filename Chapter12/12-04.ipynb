{
 "cells": [
  {
   "cell_type": "markdown",
   "metadata": {},
   "source": [
    "# Chapter 12-04\n",
    "## 日本の人口を視覚化する"
   ]
  },
  {
   "cell_type": "markdown",
   "metadata": {},
   "source": [
    "### 人口のデータを読み込む"
   ]
  },
  {
   "cell_type": "code",
   "execution_count": null,
   "metadata": {
    "collapsed": true
   },
   "outputs": [],
   "source": [
    "import numpy as np\n",
    "\n",
    "# 1944年から2014年までの5歳階級別の人口を男女別に読み込む\n",
    "p_male = np.loadtxt('male_1944_2014.csv', delimiter=\",\",\n",
    "                      skiprows=1, usecols=range(1, 22))\n",
    "p_female = np.loadtxt('female_1944_2014.csv', delimiter=\",\",\n",
    "                      skiprows=1, usecols=range(1, 22))"
   ]
  },
  {
   "cell_type": "code",
   "execution_count": null,
   "metadata": {
    "collapsed": true
   },
   "outputs": [],
   "source": [
    "# 男女の5歳階級別人口を合計する\n",
    "p_total = p_male+p_female\n",
    "# 年ごとの人口になおす\n",
    "p_yearly = p_total.sum(axis=1)"
   ]
  },
  {
   "cell_type": "code",
   "execution_count": null,
   "metadata": {
    "collapsed": false
   },
   "outputs": [],
   "source": [
    "# 人口のグラフを表示する\n",
    "%matplotlib inline\n",
    "import matplotlib.pyplot as plt\n",
    "\n",
    "t = plt.plot(range(1944, 2015), p_yearly)\n",
    "plt.ylim((0, 130000))\n",
    "plt.grid(True)"
   ]
  },
  {
   "cell_type": "code",
   "execution_count": null,
   "metadata": {
    "collapsed": false
   },
   "outputs": [],
   "source": [
    "# 出生率(合計特殊出生率)のデータ，1960年から2014年を読み込む\n",
    "tfr = np.loadtxt('total_fertility_rate.csv', delimiter=\",\", skiprows=1)\n",
    "# 出生率のグラフを描く\n",
    "t = plt.plot(range(1960, 2015), tfr, ls=\":\")\n",
    "# 置き換え水準(2.07)に線を引く\n",
    "t = plt.plot([1960, 2015], [2.07, 2.07])"
   ]
  },
  {
   "cell_type": "markdown",
   "metadata": {},
   "source": [
    "### 人口ピラミッドを描く"
   ]
  },
  {
   "cell_type": "code",
   "execution_count": null,
   "metadata": {
    "collapsed": true
   },
   "outputs": [],
   "source": [
    "from matplotlib import gridspec\n",
    "def show_pgraph(year, arr1, arr2, arr3,\n",
    "                ymin, ymax, ydim=1):\n",
    "    # 人口ピラミッドを表示する\n",
    "    # 表示する人口のインデックスを得る\n",
    "    idx = int((year-ymin)/ydim)\n",
    "    # 人口ピラミッドと人口グラフのグリッドを生成\n",
    "    gs = gridspec.GridSpec(2, 2, height_ratios=(3, 2))\n",
    "    # グラフの配置を決める\n",
    "    ax = [plt.subplot(gs[0, 0]),plt.subplot(gs[0, 1]),\n",
    "          plt.subplot(gs[1, :])]\n",
    "    # 男性の人口ピラミッドを描く\n",
    "    ax[0].barh(range(0, 101, 5), arr1[idx], height=3)\n",
    "    ax[0].set(ylim=(0, 100), xlim=(0, 6000))\n",
    "    ax[0].invert_xaxis()\n",
    "    ax[0].yaxis.tick_right()\n",
    "    # 女性の人口ピラミッドを描く\n",
    "    ax[1].barh(range(0, 101, 5), arr2[idx], height=3)\n",
    "    ax[1].tick_params(labelleft='off')\n",
    "    ax[1].set(ylim=(0, 100), xlim=(0, 6000))\n",
    "    # 人口グラフを描き西暦に線を引く\n",
    "    ax[2].plot(range(ymin, ymax+1, ydim), arr3, ls=\":\")\n",
    "    ax[2].plot([year, year], [0, 140000])"
   ]
  },
  {
   "cell_type": "code",
   "execution_count": null,
   "metadata": {
    "collapsed": false
   },
   "outputs": [],
   "source": [
    "# 関数を呼び出して人口ピラミッドを描く\n",
    "show_pgraph(1950, p_male, p_female, p_yearly,\n",
    "            1944, 2014)"
   ]
  },
  {
   "cell_type": "markdown",
   "metadata": {},
   "source": [
    "### グラフをインタラクティブに描画する"
   ]
  },
  {
   "cell_type": "code",
   "execution_count": null,
   "metadata": {
    "collapsed": false
   },
   "outputs": [],
   "source": [
    "# スライダーを使って人口ピラミッドを動かす\n",
    "from ipywidgets import interact, IntSlider, fixed\n",
    "\n",
    "t = interact(show_pgraph, year=IntSlider(min=1944, max=2014, step=5),\n",
    "         arr1=fixed(p_male), arr2=fixed(p_female), arr3=fixed(p_yearly),\n",
    "         ymin=fixed(1944), ymax=fixed(2014), ydim=fixed(1))"
   ]
  },
  {
   "cell_type": "markdown",
   "metadata": {},
   "source": [
    "### 将来の人口を推計する"
   ]
  },
  {
   "cell_type": "code",
   "execution_count": null,
   "metadata": {
    "collapsed": true
   },
   "outputs": [],
   "source": [
    "# 推計に必要なデータを読み込む\n",
    "# 2014年の死亡率(5歳階級別)を読み込む\n",
    "lifechart = np.loadtxt('lifechart2014.csv', delimiter=\",\", usecols=[3])\n",
    "# 死亡率を1から引いたarrayを作る\n",
    "rev_lifechart = np.ones(lifechart.size)-lifechart\n",
    "# 人口置き換え水準相当の出生率(15歳から5歳ごと)\n",
    "rep_level = np.array([0.0041, 0.107,\n",
    "        0.19, 0.0697, 0.017, 0.0021, 0.0001])\n",
    "# 高位推計に相当する出生率\n",
    "high_rate = np.array([0.0036, 0.0514,\n",
    "        0.1593, 0.0927, 0.0187, 0.0023, 0.0001])"
   ]
  },
  {
   "cell_type": "code",
   "execution_count": null,
   "metadata": {
    "collapsed": true
   },
   "outputs": [],
   "source": [
    "# 将来人口の推計を行う\n",
    "# 男女の人口データを推定するarrayを定義\n",
    "fp_male = np.array(p_male[-2:])\n",
    "fp_female = np.array(p_female[-2:])\n",
    "\n",
    "# 人口置き換え水準に戻る期間(割る5)\n",
    "recover_in = 5\n",
    "\n",
    "for i in range(20):\n",
    "    # 5年ごと100年間分繰り返す\n",
    "    # 直近の5歳階級別で新しい人口を初期化\n",
    "    new_fp_male = fp_male[-1]\n",
    "    new_fp_female = fp_female[-1]\n",
    "    # 出生率を設定\n",
    "    if i > recover_in:\n",
    "        f_rate = rep_level\n",
    "    else:\n",
    "        f_rate = high_rate\n",
    "    # 15-49歳の女性人口に出生率をかけて新生児数を計算\n",
    "    newborn = np.sum(new_fp_female[3:10]*f_rate)*5\n",
    "    # 直近の5歳階級別人口のインデックス\n",
    "    # を右にずらし，新生児を左に連結\n",
    "    new_fp_male = np.hstack(\n",
    "        ([newborn*0.4878], new_fp_male[:-1]))\n",
    "    new_fp_female = np.hstack(\n",
    "        ([newborn*0.5122], new_fp_female[:-1]))\n",
    "    # 各階級の人口に死亡率を適用\n",
    "    new_fp_male *= rev_lifechart\n",
    "    new_fp_female *= rev_lifechart\n",
    "    # 新しい推定人口を追加\n",
    "    fp_male = np.vstack(\n",
    "        (fp_male, new_fp_male))\n",
    "    fp_female = np.vstack(\n",
    "        (fp_female, new_fp_female))\n",
    "\n",
    "# 男女合算の5歳階級別人口，5年ごとの推定総人口のarrayを作る\n",
    "fp_total = fp_male+fp_female\n",
    "fp_sum = np.array([np.sum(x) for x in fp_total])"
   ]
  },
  {
   "cell_type": "code",
   "execution_count": null,
   "metadata": {
    "collapsed": false
   },
   "outputs": [],
   "source": [
    "# 25年後に置き換え水準に戻る前提の人口推計グラフを描く\n",
    "t=plt.plot(range(2013, 2120, 5), fp_sum)\n",
    "t=plt.ylim([0, 130000])\n",
    "plt.grid(True)"
   ]
  },
  {
   "cell_type": "code",
   "execution_count": null,
   "metadata": {
    "collapsed": false
   },
   "outputs": [],
   "source": [
    "# 推計した人口データをスライダーで動的に表示\n",
    "t = interact(show_pgraph, year=IntSlider(min=2013, max=2113, step=5),\n",
    "         arr1=fixed(fp_male), arr2=fixed(fp_female), arr3=fixed(fp_sum),\n",
    "         ymin=fixed(2013), ymax=fixed(2120), ydim=fixed(5))"
   ]
  },
  {
   "cell_type": "code",
   "execution_count": null,
   "metadata": {
    "collapsed": true
   },
   "outputs": [],
   "source": []
  }
 ],
 "metadata": {
  "kernelspec": {
   "display_name": "Python 3",
   "language": "python",
   "name": "python3"
  },
  "language_info": {
   "codemirror_mode": {
    "name": "ipython",
    "version": 3
   },
   "file_extension": ".py",
   "mimetype": "text/x-python",
   "name": "python",
   "nbconvert_exporter": "python",
   "pygments_lexer": "ipython3",
   "version": "3.5.1"
  }
 },
 "nbformat": 4,
 "nbformat_minor": 0
}
